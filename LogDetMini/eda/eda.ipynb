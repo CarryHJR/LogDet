{
 "cells": [
  {
   "cell_type": "code",
   "execution_count": 1,
   "id": "64e3f642-85bf-4f68-a313-b169a9c41de2",
   "metadata": {},
   "outputs": [],
   "source": [
    "import matplotlib.pyplot as plt\n",
    "%matplotlib inline\n",
    "import numpy as np\n",
    "import os, sys, cv2\n",
    "\n",
    "\n",
    "%load_ext autoreload\n",
    "%autoreload 2\n",
    "\n",
    "import os.path as osp\n",
    "from PIL import Image\n",
    "import random\n"
   ]
  },
  {
   "cell_type": "code",
   "execution_count": 2,
   "id": "719bead8-176a-41a3-9ae5-90bdbdd731a0",
   "metadata": {},
   "outputs": [],
   "source": [
    "root = '/home/user/data/logdet-mini'"
   ]
  },
  {
   "cell_type": "markdown",
   "id": "84ffd117-d92f-46e3-898e-65d891fa8900",
   "metadata": {},
   "source": [
    "# 图像尺寸和长宽比"
   ]
  },
  {
   "cell_type": "code",
   "execution_count": 4,
   "id": "06660d21-2041-4db6-aa7f-6a535198d80d",
   "metadata": {},
   "outputs": [
    {
     "name": "stdout",
     "output_type": "stream",
     "text": [
      "[>>>>>>>>>>>>>>>>>>>>>>>>>>>>>>>>>>>>>>>>>>>>>>>>>>] 2000/2000, 1715.9 task/s, elapsed: 1s, ETA:     0s\n"
     ]
    },
    {
     "data": {
      "image/png": "[encoded data removed]",
      "text/plain": [
       "<Figure size 1152x288 with 3 Axes>"
      ]
     },
     "metadata": {
      "needs_background": "light"
     },
     "output_type": "display_data"
    }
   ],
   "source": [
    "img_dir = osp.join(root, 'images')\n",
    "import glob\n",
    "import mmcv\n",
    "img_paths = glob.glob(img_dir + '/*')\n",
    "def get_img_size(img_path):\n",
    "    image = Image.open(img_path)\n",
    "    w, h = image.size\n",
    "    return (w, h)\n",
    "\n",
    "results = mmcv.track_parallel_progress(get_img_size, img_paths, 8)\n",
    "\n",
    "w_list = [x[0] for x in results]\n",
    "h_list = [x[1] for x in results]\n",
    "\n",
    "import seaborn as sns\n",
    "f, ax = plt.subplots(1,3, figsize=(16,4))\n",
    "sns.histplot(w_list, ax=ax[0], palette=sns.light_palette(\"seagreen\", as_cmap=True)).set_title('Width');\n",
    "sns.histplot(h_list, ax=ax[1], palette=sns.color_palette(\"RdPu\", 10)).set_title('Height');\n",
    "sns.histplot(np.array(w_list)/np.array(h_list), ax=ax[2], palette=sns.color_palette(\"RdPu\", 10)).set_title('W&H Ratio');"
   ]
  },
  {
   "cell_type": "markdown",
   "id": "c2f88f17-bcd3-46e0-88a9-bf13d5d9bfb5",
   "metadata": {},
   "source": [
    "大部分都是 `800*800` 的 尺寸，少部分会非常大"
   ]
  },
  {
   "cell_type": "markdown",
   "id": "a0a05df4-86a7-4b01-ad72-85058cf3ed87",
   "metadata": {},
   "source": [
    "# 统计小目标的比例"
   ]
  },
  {
   "cell_type": "code",
   "execution_count": 7,
   "id": "2559b131-65ee-4727-9c14-7f1087b35521",
   "metadata": {},
   "outputs": [
    {
     "name": "stdout",
     "output_type": "stream",
     "text": [
      "loading annotations into memory...\n",
      "Done (t=0.01s)\n",
      "creating index...\n",
      "index created!\n"
     ]
    }
   ],
   "source": [
    "from pycocotools.coco import COCO\n",
    "json_path = osp.join(root, 'instances_train2017.json')\n",
    "coco = COCO(json_path)\n"
   ]
  },
  {
   "cell_type": "code",
   "execution_count": 13,
   "id": "29e19971-eee9-4421-af31-f80aaaff6c89",
   "metadata": {},
   "outputs": [
    {
     "name": "stdout",
     "output_type": "stream",
     "text": [
      "bbox 小目标(area<%3)占比 统计\n",
      "+------------------+--------------------+\n",
      "|      class       | small object ratio |\n",
      "+------------------+--------------------+\n",
      "|      FESTO       | 0.8409090909090909 |\n",
      "|    starbucks     | 0.9523809523809523 |\n",
      "|     castrol      | 0.8421052631578947 |\n",
      "|    hellokitty    | 0.7349397590361446 |\n",
      "|     SANDVIK      |        1.0         |\n",
      "| alexandermcqueen | 0.8095238095238095 |\n",
      "|     balabala     |        1.0         |\n",
      "|  THINKINGPUTTY   |       0.375        |\n",
      "|       CCTV       |        1.0         |\n",
      "|       puma       | 0.7777777777777778 |\n",
      "|      piaget      |        1.0         |\n",
      "|     givenchy     | 0.7941176470588235 |\n",
      "|  naturerepublic  | 0.8787878787878788 |\n",
      "|     pandora      | 0.7307692307692307 |\n",
      "|   chowtaiseng    |        1.0         |\n",
      "|       kans       |        1.0         |\n",
      "|      joyong      |        1.0         |\n",
      "|      apple       | 0.9428571428571428 |\n",
      "|      lenovo      |        1.0         |\n",
      "|   sergiorossi    |        1.0         |\n",
      "|      joeone      | 0.9649122807017544 |\n",
      "|       dove       | 0.9649122807017544 |\n",
      "|      pigeon      | 0.9583333333333334 |\n",
      "|       keds       | 0.9523809523809523 |\n",
      "|      simon       |        1.0         |\n",
      "|     burberry     |        1.0         |\n",
      "|      wechat      |        1.0         |\n",
      "|     thermos      |        1.0         |\n",
      "|      asics       | 0.9032258064516129 |\n",
      "|     doraemon     | 0.5205479452054794 |\n",
      "|      brioni      |        1.0         |\n",
      "|     rejoice      | 0.9883720930232558 |\n",
      "|  charles_keith   | 0.9534883720930233 |\n",
      "|    Jmsolution    | 0.9807692307692307 |\n",
      "|     musenlin     | 0.9387755102040817 |\n",
      "|       GOON       |        0.56        |\n",
      "|  gentlemonster   |       0.9375       |\n",
      "|     hotwind      |        1.0         |\n",
      "|   UnderArmour    |       0.925        |\n",
      "|     alibaba      | 0.574468085106383  |\n",
      "|      tesla       | 0.7777777777777778 |\n",
      "|      gloria      |        1.0         |\n",
      "|  ThomasFriends   | 0.6666666666666666 |\n",
      "|      fendi       | 0.9117647058823529 |\n",
      "|      camel       |        1.0         |\n",
      "|     Thrasher     | 0.4523809523809524 |\n",
      "|     yuantong     | 0.6862745098039216 |\n",
      "|   chromehearts   | 0.8490566037735849 |\n",
      "|    pepsicola     | 0.8395061728395061 |\n",
      "|     playboy      |        1.0         |\n",
      "|       all        | 0.8819732595666205 |\n",
      "+------------------+--------------------+\n"
     ]
    }
   ],
   "source": [
    "print('bbox 小目标(area<%3)占比 统计')\n",
    "class_names = []\n",
    "wh_ratios_cls = []\n",
    "for cat_id in coco.cats:\n",
    "    wh_ratios = []\n",
    "    for ann_id in coco.getAnnIds(catIds=[cat_id]):\n",
    "        ann = coco.anns[ann_id]\n",
    "        image_id = ann['image_id']\n",
    "        w_ratio = ann['bbox'][2] / coco.imgs[image_id]['width']\n",
    "        h_ratio = ann['bbox'][3] / coco.imgs[image_id]['height']\n",
    "        wh_ratios.append([w_ratio, h_ratio])\n",
    "    wh_ratios = np.array(wh_ratios)\n",
    "    wh_ratios[:, -1] = wh_ratios[:, 0] * wh_ratios[:, 1]\n",
    "    # print(coco.cats[cat_id]['name'], (wh_ratios[:,-1]<0.03).sum() / wh_ratios.shape[0])\n",
    "    class_names.append(coco.cats[cat_id]['name'])\n",
    "    wh_ratios_cls.append((wh_ratios[:,-1]<0.03).sum() / wh_ratios.shape[0])\n",
    "\n",
    "wh_ratios = []\n",
    "for _, ann in coco.anns.items():\n",
    "    image_id = ann['image_id']\n",
    "    w_ratio = ann['bbox'][2] / coco.imgs[image_id]['width']\n",
    "    h_ratio = ann['bbox'][3] / coco.imgs[image_id]['height']\n",
    "    wh_ratios.append([w_ratio, h_ratio])\n",
    "wh_ratios = np.array(wh_ratios)\n",
    "wh_ratios[:, -1] = wh_ratios[:, 0] * wh_ratios[:, 1]\n",
    "# print('all ', (wh_ratios[:,-1]<0.03).sum() / wh_ratios.shape[0])\n",
    "class_names.append('all')\n",
    "wh_ratios_cls.append((wh_ratios[:,-1]<0.03).sum() / wh_ratios.shape[0])\n",
    "\n",
    "from prettytable import PrettyTable\n",
    "table_data = PrettyTable()\n",
    "table_data.add_column('class', class_names)\n",
    "table_data.add_column('small object ratio', wh_ratios_cls)\n",
    "print(table_data.get_string())"
   ]
  },
  {
   "cell_type": "markdown",
   "id": "94db5800-7805-458b-a9c0-385ff9214e7a",
   "metadata": {},
   "source": [
    "小目标(area<%3) 占据了大部分"
   ]
  },
  {
   "cell_type": "markdown",
   "id": "edc22cd9-de3b-40c9-aedd-8ea0302c6d8d",
   "metadata": {},
   "source": [
    "# bbox长宽比"
   ]
  },
  {
   "cell_type": "code",
   "execution_count": 14,
   "id": "ea1a5e4b-5433-4aee-9517-b174d025d1c1",
   "metadata": {},
   "outputs": [
    {
     "data": {
      "image/png": "[encoded data removed]",
      "text/plain": [
       "<Figure size 432x288 with 1 Axes>"
      ]
     },
     "metadata": {
      "needs_background": "light"
     },
     "output_type": "display_data"
    }
   ],
   "source": [
    "# refer: https://zhuanlan.zhihu.com/p/108885033\n",
    "bbox_wh = [round(max(ann['bbox'][2], ann['bbox'][3]) / min(ann['bbox'][2], ann['bbox'][3]), 0) for _, ann in coco.anns.items()]\n",
    "import pandas as pd\n",
    "bbox_wh_unique = list(set(bbox_wh))\n",
    "bbox_wh_count=[bbox_wh.count(i) for i in bbox_wh_unique]\n",
    "k = 10\n",
    "wh_df = pd.DataFrame(bbox_wh_count[:k], index=bbox_wh_unique[:k])\n",
    "wh_df.plot(kind='bar',color=\"#55aacc\")\n",
    "plt.show()"
   ]
  }
 ],
 "metadata": {
  "kernelspec": {
   "display_name": "mmdet",
   "language": "python",
   "name": "mmdet"
  },
  "language_info": {
   "codemirror_mode": {
    "name": "ipython",
    "version": 3
   },
   "file_extension": ".py",
   "mimetype": "text/x-python",
   "name": "python",
   "nbconvert_exporter": "python",
   "pygments_lexer": "ipython3",
   "version": "3.6.13"
  }
 },
 "nbformat": 4,
 "nbformat_minor": 5
}
